{
 "cells": [
  {
   "cell_type": "markdown",
   "id": "45e05659",
   "metadata": {},
   "source": [
    "# Sentiment Analysis of Ryanair Customer Reviews\n",
    "\n",
    "Ryanair, a popular low-cost airline that operates in various regions including Europe and North Africa, has recently extended its services to Morocco. This project aims to conduct sentiment analysis on customer reviews of Ryanair to gain a comprehensive understanding of the general sentiment towards the airline and identify potential areas for improvement.\n",
    "\n",
    "We will start by cleaning the text data and generating sentiment scores using the VADER (Valence Aware Dictionary and sEntiment Reasoner) tool. Then, we will visualize the results to gain a better understanding of the sentiment distribution and explore the relationship between the length of the reviews and their sentiment scores.\n",
    "\n",
    "Let's get started!"
   ]
  },
  {
   "cell_type": "markdown",
   "id": "d57f3387",
   "metadata": {},
   "source": [
    "# 1- Scraping Customer Reviews\n",
    "\n",
    "The aim of this task is to collect customer reviews from the Ryanair page on [https://www.airlinequality.com] by using Python and BeautifulSoup. The collected data will be used for sentiment analysis, which will provide insights into customer feedback about Ryanair. Analyzing customer feedback can help identify any potential issues or trends that need to be addressed by the airline to improve customer satisfaction."
   ]
  },
  {
   "cell_type": "code",
   "execution_count": 30,
   "id": "857b16fd",
   "metadata": {},
   "outputs": [],
   "source": [
    "import requests\n",
    "from bs4 import BeautifulSoup\n",
    "import pandas as pd\n",
    "import re"
   ]
  },
  {
   "cell_type": "code",
   "execution_count": 31,
   "id": "33ac3876",
   "metadata": {},
   "outputs": [
    {
     "name": "stdout",
     "output_type": "stream",
     "text": [
      "Scraping page 1\n",
      "Scraping page 2\n",
      "Scraping page 3\n",
      "Scraping page 4\n",
      "Scraping page 5\n",
      "Scraping page 6\n",
      "Scraping page 7\n",
      "Scraping page 8\n",
      "Scraping page 9\n",
      "Scraping page 10\n",
      "Scraping page 11\n",
      "Scraping page 12\n",
      "Scraping page 13\n",
      "Scraping page 14\n",
      "Scraping page 15\n",
      "Scraping page 16\n",
      "Scraping page 17\n",
      "Scraping page 18\n",
      "Scraping page 19\n",
      "Scraping page 20\n",
      "   ---> 2000 total names\n",
      "   ---> 2000 total reviews\n",
      "   ---> 2000 total Seat Type\n",
      "   ---> 2000 total Recommendation\n",
      "   ---> 2000 total Date\n"
     ]
    }
   ],
   "source": [
    "base_url = \"https://www.airlinequality.com/airline-reviews/ryanair/\"\n",
    "pages = 20\n",
    "page_size = 100\n",
    "\n",
    "Name = []\n",
    "reviews = []\n",
    "SeatType = []\n",
    "Recommend = []\n",
    "Date=[]\n",
    "Destination = []\n",
    "\n",
    "# Loop through each page of reviews\n",
    "for i in range(1, pages + 1):\n",
    "\n",
    "    print(f\"Scraping page {i}\")\n",
    "\n",
    "    # Create URL to collect links from paginated data\n",
    "    url = f\"{base_url}/page/{i}/?sortby=post_date%3ADesc&pagesize={page_size}\"\n",
    "\n",
    "    # Collect HTML data from this page\n",
    "    response = requests.get(url)\n",
    "\n",
    "    # Parse content\n",
    "    content = response.content\n",
    "    parsed_content = BeautifulSoup(content, 'html.parser')\n",
    "\n",
    "    # Extract names\n",
    "    for para in parsed_content.find_all(\"span\", {\"itemprop\": \"name\"}):\n",
    "        Name.append(para.get_text())\n",
    "\n",
    "    # Extract reviews\n",
    "    for para in parsed_content.find_all(\"div\", {\"class\": \"text_content\"}):\n",
    "        reviews.append(para.get_text())\n",
    "\n",
    "    # Extract seat types\n",
    "    for para in parsed_content.find_all(\"tr\"):\n",
    "        if para.find(\"td\", {\"class\": \"review-rating-header cabin_flown\"}, text=\"Seat Type\"):\n",
    "            SeatType.append(para.get_text().replace(\"Seat Type\", \"\"))\n",
    "\n",
    "    # Extract recommendation scores\n",
    "    for para in parsed_content.find_all(\"table\", {\"class\": \"review-ratings\"}):\n",
    "        rec = para.find('td', {'class': ['review-value rating-yes', 'review-value rating-no']})\n",
    "        if rec is not None:\n",
    "            Recommend.append(rec.string.strip()[0])\n",
    "            \n",
    "    # Extract Date of the review\n",
    "    for para in parsed_content.find_all(\"time\", {\"itemprop\": \"datePublished\"}):\n",
    "        Date.append(para.get_text())\n",
    "    \n",
    "\n",
    "print(f\"   ---> {len(Name)} total names\")\n",
    "print(f\"   ---> {len(reviews)} total reviews\")\n",
    "print(f\"   ---> {len(SeatType)} total Seat Type\")\n",
    "print(f\"   ---> {len(Recommend)} total Recommendation\")\n",
    "print(f\"   ---> {len(Date)} total Date\")"
   ]
  },
  {
   "cell_type": "code",
   "execution_count": 32,
   "id": "a3289f26",
   "metadata": {},
   "outputs": [
    {
     "name": "stdout",
     "output_type": "stream",
     "text": [
      "Shape of the DataFrame: (2000, 5)\n"
     ]
    }
   ],
   "source": [
    "# Create a DataFrame with the collected data\n",
    "df = pd.DataFrame({\n",
    "    \"name\": Name,\n",
    "    \"reviews\": reviews,\n",
    "    \"seat_type\": SeatType,\n",
    "    \"recommended\": Recommend,\n",
    "    \"date_review\": Date\n",
    "})\n",
    "\n",
    "# Check the shape of the DataFrame\n",
    "print(f\"Shape of the DataFrame: {df.shape}\")"
   ]
  },
  {
   "cell_type": "code",
   "execution_count": 33,
   "id": "7ea09d96",
   "metadata": {},
   "outputs": [
    {
     "data": {
      "text/html": [
       "<div>\n",
       "<style scoped>\n",
       "    .dataframe tbody tr th:only-of-type {\n",
       "        vertical-align: middle;\n",
       "    }\n",
       "\n",
       "    .dataframe tbody tr th {\n",
       "        vertical-align: top;\n",
       "    }\n",
       "\n",
       "    .dataframe thead th {\n",
       "        text-align: right;\n",
       "    }\n",
       "</style>\n",
       "<table border=\"1\" class=\"dataframe\">\n",
       "  <thead>\n",
       "    <tr style=\"text-align: right;\">\n",
       "      <th></th>\n",
       "      <th>name</th>\n",
       "      <th>reviews</th>\n",
       "      <th>seat_type</th>\n",
       "      <th>recommended</th>\n",
       "      <th>date_review</th>\n",
       "    </tr>\n",
       "  </thead>\n",
       "  <tbody>\n",
       "    <tr>\n",
       "      <th>0</th>\n",
       "      <td>K Vernon</td>\n",
       "      <td>✅ Trip Verified | Frankfurt Hahn to Vilnius re...</td>\n",
       "      <td>Economy Class</td>\n",
       "      <td>y</td>\n",
       "      <td>24th April 2023</td>\n",
       "    </tr>\n",
       "    <tr>\n",
       "      <th>1</th>\n",
       "      <td>S Hamoliche</td>\n",
       "      <td>✅ Trip Verified |  Very bad experience. The fl...</td>\n",
       "      <td>Economy Class</td>\n",
       "      <td>n</td>\n",
       "      <td>22nd April 2023</td>\n",
       "    </tr>\n",
       "    <tr>\n",
       "      <th>2</th>\n",
       "      <td>P Marsele</td>\n",
       "      <td>✅ Trip Verified |  Would like to pass a feedba...</td>\n",
       "      <td>Economy Class</td>\n",
       "      <td>y</td>\n",
       "      <td>22nd April 2023</td>\n",
       "    </tr>\n",
       "    <tr>\n",
       "      <th>3</th>\n",
       "      <td>U Ali</td>\n",
       "      <td>✅ Trip Verified |  I had thought Ryanair would...</td>\n",
       "      <td>Economy Class</td>\n",
       "      <td>n</td>\n",
       "      <td>21st April 2023</td>\n",
       "    </tr>\n",
       "    <tr>\n",
       "      <th>4</th>\n",
       "      <td>N Hashan</td>\n",
       "      <td>✅ Trip Verified |  Got us late both ways. Also...</td>\n",
       "      <td>Economy Class</td>\n",
       "      <td>n</td>\n",
       "      <td>19th April 2023</td>\n",
       "    </tr>\n",
       "  </tbody>\n",
       "</table>\n",
       "</div>"
      ],
      "text/plain": [
       "          name                                            reviews  \\\n",
       "0     K Vernon  ✅ Trip Verified | Frankfurt Hahn to Vilnius re...   \n",
       "1  S Hamoliche  ✅ Trip Verified |  Very bad experience. The fl...   \n",
       "2    P Marsele  ✅ Trip Verified |  Would like to pass a feedba...   \n",
       "3        U Ali  ✅ Trip Verified |  I had thought Ryanair would...   \n",
       "4     N Hashan  ✅ Trip Verified |  Got us late both ways. Also...   \n",
       "\n",
       "       seat_type recommended      date_review  \n",
       "0  Economy Class           y  24th April 2023  \n",
       "1  Economy Class           n  22nd April 2023  \n",
       "2  Economy Class           y  22nd April 2023  \n",
       "3  Economy Class           n  21st April 2023  \n",
       "4  Economy Class           n  19th April 2023  "
      ]
     },
     "execution_count": 33,
     "metadata": {},
     "output_type": "execute_result"
    }
   ],
   "source": [
    "df.head()"
   ]
  },
  {
   "cell_type": "code",
   "execution_count": 34,
   "id": "0dc46e01",
   "metadata": {},
   "outputs": [
    {
     "data": {
      "text/plain": [
       "0       ✅ Trip Verified | Frankfurt Hahn to Vilnius re...\n",
       "1       ✅ Trip Verified |  Very bad experience. The fl...\n",
       "2       ✅ Trip Verified |  Would like to pass a feedba...\n",
       "3       ✅ Trip Verified |  I had thought Ryanair would...\n",
       "4       ✅ Trip Verified |  Got us late both ways. Also...\n",
       "                              ...                        \n",
       "1995    First time with Ryanair. Just me and my two yo...\n",
       "1996    Tenerife to Manchester. Flight left on time an...\n",
       "1997    London Stansted to Fuerteventura out on 20th N...\n",
       "1998    The bad press surrounding Ryanair proved to be...\n",
       "1999    We returned from Gran Canaria to Stansted on t...\n",
       "Name: reviews, Length: 2000, dtype: object"
      ]
     },
     "execution_count": 34,
     "metadata": {},
     "output_type": "execute_result"
    }
   ],
   "source": [
    "df['reviews']"
   ]
  },
  {
   "cell_type": "code",
   "execution_count": 35,
   "id": "46c804d5",
   "metadata": {},
   "outputs": [],
   "source": [
    "# Split reviews on | and return the last element.\n",
    "df[\"reviews\"] = df[\"reviews\"].apply(lambda x: x.split(\"|\", 1)[-1] if \"| \" in x else x)"
   ]
  },
  {
   "cell_type": "code",
   "execution_count": 36,
   "id": "4f6d81ab",
   "metadata": {},
   "outputs": [],
   "source": [
    "# Remove ordinal indicator from date strings\n",
    "df[\"date_review\"] = df[\"date_review\"].apply(lambda x: re.sub(r'\\b(\\d+)(st|nd|rd|th)\\b', r'\\1', x))\n",
    "\n",
    "# Convert date strings to datetime format\n",
    "df[\"date_review\"] = pd.to_datetime(df[\"date_review\"], format=\"%d %B %Y\")"
   ]
  },
  {
   "cell_type": "code",
   "execution_count": 37,
   "id": "8c3f1035",
   "metadata": {},
   "outputs": [
    {
     "data": {
      "text/html": [
       "<div>\n",
       "<style scoped>\n",
       "    .dataframe tbody tr th:only-of-type {\n",
       "        vertical-align: middle;\n",
       "    }\n",
       "\n",
       "    .dataframe tbody tr th {\n",
       "        vertical-align: top;\n",
       "    }\n",
       "\n",
       "    .dataframe thead th {\n",
       "        text-align: right;\n",
       "    }\n",
       "</style>\n",
       "<table border=\"1\" class=\"dataframe\">\n",
       "  <thead>\n",
       "    <tr style=\"text-align: right;\">\n",
       "      <th></th>\n",
       "      <th>name</th>\n",
       "      <th>reviews</th>\n",
       "      <th>seat_type</th>\n",
       "      <th>recommended</th>\n",
       "      <th>date_review</th>\n",
       "    </tr>\n",
       "  </thead>\n",
       "  <tbody>\n",
       "    <tr>\n",
       "      <th>0</th>\n",
       "      <td>K Vernon</td>\n",
       "      <td>Frankfurt Hahn to Vilnius return. Incredible ...</td>\n",
       "      <td>Economy Class</td>\n",
       "      <td>y</td>\n",
       "      <td>2023-04-24</td>\n",
       "    </tr>\n",
       "    <tr>\n",
       "      <th>1</th>\n",
       "      <td>S Hamoliche</td>\n",
       "      <td>Very bad experience. The flight was delayed ...</td>\n",
       "      <td>Economy Class</td>\n",
       "      <td>n</td>\n",
       "      <td>2023-04-22</td>\n",
       "    </tr>\n",
       "    <tr>\n",
       "      <th>2</th>\n",
       "      <td>P Marsele</td>\n",
       "      <td>Would like to pass a feedback to Antonio and...</td>\n",
       "      <td>Economy Class</td>\n",
       "      <td>y</td>\n",
       "      <td>2023-04-22</td>\n",
       "    </tr>\n",
       "    <tr>\n",
       "      <th>3</th>\n",
       "      <td>U Ali</td>\n",
       "      <td>I had thought Ryanair would have improved ov...</td>\n",
       "      <td>Economy Class</td>\n",
       "      <td>n</td>\n",
       "      <td>2023-04-21</td>\n",
       "    </tr>\n",
       "    <tr>\n",
       "      <th>4</th>\n",
       "      <td>N Hashan</td>\n",
       "      <td>Got us late both ways. Also caused us to mis...</td>\n",
       "      <td>Economy Class</td>\n",
       "      <td>n</td>\n",
       "      <td>2023-04-19</td>\n",
       "    </tr>\n",
       "  </tbody>\n",
       "</table>\n",
       "</div>"
      ],
      "text/plain": [
       "          name                                            reviews  \\\n",
       "0     K Vernon   Frankfurt Hahn to Vilnius return. Incredible ...   \n",
       "1  S Hamoliche    Very bad experience. The flight was delayed ...   \n",
       "2    P Marsele    Would like to pass a feedback to Antonio and...   \n",
       "3        U Ali    I had thought Ryanair would have improved ov...   \n",
       "4     N Hashan    Got us late both ways. Also caused us to mis...   \n",
       "\n",
       "       seat_type recommended date_review  \n",
       "0  Economy Class           y  2023-04-24  \n",
       "1  Economy Class           n  2023-04-22  \n",
       "2  Economy Class           y  2023-04-22  \n",
       "3  Economy Class           n  2023-04-21  \n",
       "4  Economy Class           n  2023-04-19  "
      ]
     },
     "execution_count": 37,
     "metadata": {},
     "output_type": "execute_result"
    }
   ],
   "source": [
    "df.head()"
   ]
  }
 ],
 "metadata": {
  "kernelspec": {
   "display_name": "Python 3 (ipykernel)",
   "language": "python",
   "name": "python3"
  },
  "language_info": {
   "codemirror_mode": {
    "name": "ipython",
    "version": 3
   },
   "file_extension": ".py",
   "mimetype": "text/x-python",
   "name": "python",
   "nbconvert_exporter": "python",
   "pygments_lexer": "ipython3",
   "version": "3.9.13"
  }
 },
 "nbformat": 4,
 "nbformat_minor": 5
}
